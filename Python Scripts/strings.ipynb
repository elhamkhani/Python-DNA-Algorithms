{
 "cells": [
  {
   "cell_type": "code",
   "execution_count": 1,
   "metadata": {
    "collapsed": false
   },
   "outputs": [
    {
     "name": "stdout",
     "output_type": "stream",
     "text": [
      "ACGT\n"
     ]
    }
   ],
   "source": [
    "seq=\"ACGT\"\n",
    "print(seq)"
   ]
  },
  {
   "cell_type": "code",
   "execution_count": 7,
   "metadata": {
    "collapsed": false
   },
   "outputs": [
    {
     "name": "stdout",
     "output_type": "stream",
     "text": [
      "GTGTCGACTC\n"
     ]
    }
   ],
   "source": [
    "import random\n",
    "seq =''\n",
    "for _ in range(10):\n",
    "    seq+=random.choice(\"ACGT\")\n",
    "print(seq)\n"
   ]
  },
  {
   "cell_type": "code",
   "execution_count": 10,
   "metadata": {
    "collapsed": false
   },
   "outputs": [
    {
     "name": "stdout",
     "output_type": "stream",
     "text": [
      "A\n"
     ]
    }
   ],
   "source": [
    "print(random.choice(\"ACGT\"))"
   ]
  },
  {
   "cell_type": "code",
   "execution_count": 12,
   "metadata": {
    "collapsed": false
   },
   "outputs": [
    {
     "name": "stdout",
     "output_type": "stream",
     "text": [
      "GAAGAAGTGTACTCCGGGCGCGTACGAAACACGAGAGAAGATGCCCCTTCTCGCCTCGGTCCGCCTAGCTGAGCTAGAGCGCTCACTTTAAGACGAAGAG\n"
     ]
    }
   ],
   "source": [
    "seq = ''.join(random.choice(\"ACGT\") for _ in range(100))\n",
    "print(seq)"
   ]
  },
  {
   "cell_type": "code",
   "execution_count": 19,
   "metadata": {
    "collapsed": false
   },
   "outputs": [
    {
     "name": "stdout",
     "output_type": "stream",
     "text": [
      "AG\n"
     ]
    }
   ],
   "source": [
    "print(seq[-2:])"
   ]
  },
  {
   "cell_type": "code",
   "execution_count": 105,
   "metadata": {
    "collapsed": false
   },
   "outputs": [
    {
     "name": "stdout",
     "output_type": "stream",
     "text": [
      "TTAA\n"
     ]
    }
   ],
   "source": [
    "def reverseComplement(s):\n",
    "    complement = {'A':'T','T':'A','C':'G','G':'C'}\n",
    "    reverse = ''\n",
    "    for i in s:\n",
    "        reverse = complement[i]+ reverse\n",
    "    return reverse\n",
    "print(reverseComplement('TTAA'))"
   ]
  },
  {
   "cell_type": "code",
   "execution_count": 22,
   "metadata": {
    "collapsed": false
   },
   "outputs": [
    {
     "data": {
      "text/plain": [
       "'T'"
      ]
     },
     "execution_count": 22,
     "metadata": {},
     "output_type": "execute_result"
    }
   ],
   "source": [
    "complement = {'A':'T','T':'A','C':'G','G':'C'}\n",
    "complement['A']"
   ]
  },
  {
   "cell_type": "code",
   "execution_count": 34,
   "metadata": {
    "collapsed": false
   },
   "outputs": [
    {
     "data": {
      "text/plain": [
       "48502"
      ]
     },
     "execution_count": 34,
     "metadata": {},
     "output_type": "execute_result"
    }
   ],
   "source": [
    "def readGenome(filename):\n",
    "    genome =''\n",
    "    with open(filename,'r') as f:\n",
    "        for line in f:\n",
    "            if not line[0] == '>':\n",
    "                genome +=line.rstrip()\n",
    "    return genome\n",
    "g = readGenome('lambda_virus.fa')\n",
    "len(g)"
   ]
  },
  {
   "cell_type": "code",
   "execution_count": 35,
   "metadata": {
    "collapsed": false
   },
   "outputs": [
    {
     "data": {
      "text/plain": [
       "{'A': 12334, 'C': 11362, 'G': 12820, 'T': 11986}"
      ]
     },
     "execution_count": 35,
     "metadata": {},
     "output_type": "execute_result"
    }
   ],
   "source": [
    "counts = {'A':0,'T':0,'C':0,'G':0}\n",
    "for base in g:\n",
    "    counts[base]+=1\n",
    "counts"
   ]
  },
  {
   "cell_type": "code",
   "execution_count": 37,
   "metadata": {
    "collapsed": false
   },
   "outputs": [
    {
     "data": {
      "text/plain": [
       "Counter({'A': 12334, 'C': 11362, 'G': 12820, 'T': 11986})"
      ]
     },
     "execution_count": 37,
     "metadata": {},
     "output_type": "execute_result"
    }
   ],
   "source": [
    "import collections\n",
    "collections.Counter(g)"
   ]
  },
  {
   "cell_type": "code",
   "execution_count": 56,
   "metadata": {
    "collapsed": false
   },
   "outputs": [
    {
     "name": "stdout",
     "output_type": "stream",
     "text": [
      "['TTTCCGGGGCACATAATCTTCAGCCGGGCGC', 'TATCCTTGCAATACTCTCCGAACGGGAGAGC', 'GCAGTTTAAGATCATTTTATTGAAGAGCAAG', 'GGCATTGCAAAATTTATTACACCCCCAGATC', 'CCCCCTTAAATAGCTGTTTATTTGGCCCCAG', 'TCTTGCAAAAACTCCTAGATCGGAAGAGCAC', 'TCCCCCCCCCAAATCGGAAAAACACACCCCC', 'GTCTTTGTACAAAATTTTATTAAAGGTCTTT', 'CCTTCCATCACCAGATCGGAAAAACACACGC', 'GAGTTATAATCCAATCTTTATTTAAAAATCT']\n",
      "['9C;=;=<9@4868>9:67AA<9>65<=>591', '1/04.72,(003,-2-22+00-12./.-.4-', '?7?AEEC@>=1?A?EEEB9ECB?==:B.A?A', '>=2.660/?:36AD;0<14703640334-//', '8;;;>DC@DAC=B?C@9?B?CDCB@><<??A', '-/CA:+<599803./2065?6=<>90;?150', '5?:5;<02:@977=:<0=9>@5>7>;>*3,-', '?B?DEC@A=?ADDAEEEC?EC@D6A@@>DE4', '00>7;8@5<192?/8;0;;>=3=/3239713', '>=AEC?C@;??0A>?0DEB9EEB@DDC1?=6']\n"
     ]
    }
   ],
   "source": [
    "def readFastq(filename):\n",
    "    sequenses = []\n",
    "    qualities = []\n",
    "    with open(filename) as f:\n",
    "        while True :\n",
    "            f.readline()\n",
    "            seq = f.readline().rstrip()\n",
    "            f.readline()\n",
    "            qual = f.readline().rstrip()\n",
    "            if len(seq) == 0:\n",
    "                break\n",
    "            sequenses.append(seq)\n",
    "            qualities.append(qual)\n",
    "    return sequenses, qualities\n",
    "seqs , quals = readFastq('SP1.fq')\n",
    "print(seqs[:10])\n",
    "print(quals[:10])"
   ]
  },
  {
   "cell_type": "code",
   "execution_count": 50,
   "metadata": {
    "collapsed": false
   },
   "outputs": [
    {
     "data": {
      "text/plain": [
       "2"
      ]
     },
     "execution_count": 50,
     "metadata": {},
     "output_type": "execute_result"
    }
   ],
   "source": [
    "def phredQ(q):\n",
    "    return ord(q) - 33\n",
    "phredQ('#')"
   ]
  },
  {
   "cell_type": "code",
   "execution_count": 52,
   "metadata": {
    "collapsed": false
   },
   "outputs": [
    {
     "name": "stdout",
     "output_type": "stream",
     "text": [
      "[0, 0, 0, 0, 0, 0, 0, 2, 9, 13, 26, 38, 63, 78, 104, 114, 125, 121, 126, 136, 130, 143, 146, 117, 158, 277, 223, 494, 691, 335, 865, 630, 551, 455, 414, 429, 737, 0, 0, 0, 0, 0, 0, 0, 0, 0, 0, 0, 0, 0]\n"
     ]
    }
   ],
   "source": [
    "def createHist(qualities):\n",
    "    hists = [0] * 50\n",
    "    for qual in qualities:\n",
    "        for phred in qual:\n",
    "            q = phredQ(phred)\n",
    "            hists[q] += 1\n",
    "    return hists\n",
    "h = createHist(quals)\n",
    "print(h)"
   ]
  },
  {
   "cell_type": "code",
   "execution_count": 55,
   "metadata": {
    "collapsed": false
   },
   "outputs": [
    {
     "data": {
      "image/png": "[encoded data removed]",
      "text/plain": [
       "<matplotlib.figure.Figure at 0x24d13243b00>"
      ]
     },
     "metadata": {},
     "output_type": "display_data"
    }
   ],
   "source": [
    "%matplotlib inline\n",
    "import matplotlib.pyplot as plt\n",
    "plt.bar(range(len(h)),h)\n",
    "plt.show()\n"
   ]
  },
  {
   "cell_type": "code",
   "execution_count": 87,
   "metadata": {
    "collapsed": false
   },
   "outputs": [
    {
     "data": {
      "image/png": "[encoded data removed]",
      "text/plain": [
       "<matplotlib.figure.Figure at 0x24d13fc2780>"
      ]
     },
     "metadata": {},
     "output_type": "display_data"
    }
   ],
   "source": [
    "def findGCByPos(reads):\n",
    "    gc = [0] * 31\n",
    "    total = [0] * 31\n",
    "    for read in reads:\n",
    "        for i in range(len(read)):\n",
    "            if read[i] == 'G' or read[i] == 'C':\n",
    "                gc[i] +=1\n",
    "            total[i] +=1\n",
    "    for i in range(len(gc)):\n",
    "        if total[i]>0:\n",
    "            gc[i]/=float(total[i])\n",
    "    return gc\n",
    "\n",
    "gc = findGCByPos(seqs)\n",
    "\n",
    "plt.plot(range(len(gc)),gc)\n",
    "plt.show()"
   ]
  },
  {
   "cell_type": "markdown",
   "metadata": {},
   "source": [
    "# This is Tile\n",
    "1. list 1.\n",
    "2. list 3\n",
    "\n",
    "adadasd\n",
    "\n",
    "+ other list\n",
    "+ other other\n",
    "\n",
    "This is **very** important.\n",
    "\n",
    "Any finally mind blowing one:\n",
    "\n",
    "$\\sum_{i=0}^{N} \\Gamma^i$"
   ]
  },
  {
   "cell_type": "code",
   "execution_count": 91,
   "metadata": {
    "collapsed": false
   },
   "outputs": [
    {
     "name": "stdout",
     "output_type": "stream",
     "text": [
      "Counter({'T': 2372, 'A': 2064, 'C': 2046, 'G': 1268})\n"
     ]
    }
   ],
   "source": [
    "import collections\n",
    "counter = collections.Counter()\n",
    "for seq in seqs:\n",
    "    counter.update(seq)\n",
    "print(counter)\n"
   ]
  },
  {
   "cell_type": "code",
   "execution_count": 103,
   "metadata": {
    "collapsed": false
   },
   "outputs": [
    {
     "name": "stdout",
     "output_type": "stream",
     "text": [
      "[4858]\n"
     ]
    }
   ],
   "source": [
    "genome = readGenome('phix.fa')\n",
    "\n",
    "def naiveMatch(pattern, text):\n",
    "    matches =[]\n",
    "    for i in range(len(text)-len(pattern)+1):\n",
    "        match = True\n",
    "        for j in range(len(pattern)):\n",
    "            if not pattern[j]== text[i+j]:\n",
    "                match = False\n",
    "                break\n",
    "        if match:\n",
    "            matches.append(i)\n",
    "    return matches\n",
    "        \n",
    "#print(genome)\n",
    "print(naiveMatch('TAGCT', genome))"
   ]
  }
 ],
 "metadata": {
  "kernelspec": {
   "display_name": "Python 3",
   "language": "python",
   "name": "python3"
  },
  "language_info": {
   "codemirror_mode": {
    "name": "ipython",
    "version": 3
   },
   "file_extension": ".py",
   "mimetype": "text/x-python",
   "name": "python",
   "nbconvert_exporter": "python",
   "pygments_lexer": "ipython3",
   "version": "3.6.0"
  }
 },
 "nbformat": 4,
 "nbformat_minor": 2
}
