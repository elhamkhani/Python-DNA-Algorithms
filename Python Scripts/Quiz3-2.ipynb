{
 "cells": [
  {
   "cell_type": "code",
   "execution_count": 1,
   "metadata": {
    "collapsed": true
   },
   "outputs": [],
   "source": [
    "def overlap(a, b, min_length=3):\n",
    "    \"\"\" Return length of longest suffix of 'a' matching\n",
    "        a prefix of 'b' that is at least 'min_length'\n",
    "        characters long.  If no such overlap exists,\n",
    "        return 0. \"\"\"\n",
    "    start = 0  # start all the way at the left\n",
    "    while True:\n",
    "        start = a.find(b[:min_length], start)  # look for b's prefix in a\n",
    "        if start == -1:  # no more occurrences to right\n",
    "            return 0\n",
    "        # found occurrence; check for full suffix/prefix match\n",
    "        if b.startswith(a[start:]):\n",
    "            return len(a)-start\n",
    "        start += 1  # move just past previous match"
   ]
  },
  {
   "cell_type": "code",
   "execution_count": 2,
   "metadata": {
    "collapsed": false
   },
   "outputs": [
    {
     "data": {
      "text/plain": [
       "2"
      ]
     },
     "execution_count": 2,
     "metadata": {},
     "output_type": "execute_result"
    }
   ],
   "source": [
    "overlap('ACGT','GTAA',2)"
   ]
  },
  {
   "cell_type": "code",
   "execution_count": 3,
   "metadata": {
    "collapsed": true
   },
   "outputs": [],
   "source": [
    "def createKmerIndex(reads, k):\n",
    "    dic = {}\n",
    "    for read in reads:\n",
    "        for i in range(len(read) - k + 1):  # for each k-mer\n",
    "            kmer = read[i:i+k]\n",
    "            if kmer in dic:\n",
    "                dic[kmer].add(read)\n",
    "            else:\n",
    "                dic[kmer] = set([read])    \n",
    "    return dic   "
   ]
  },
  {
   "cell_type": "code",
   "execution_count": 4,
   "metadata": {
    "collapsed": false
   },
   "outputs": [
    {
     "data": {
      "text/plain": [
       "{'ATT': {'GATTA'}, 'GAT': {'GATTA'}, 'TTA': {'GATTA'}}"
      ]
     },
     "execution_count": 4,
     "metadata": {},
     "output_type": "execute_result"
    }
   ],
   "source": [
    "createKmerIndex({'GATTA'},3)"
   ]
  },
  {
   "cell_type": "code",
   "execution_count": 5,
   "metadata": {
    "collapsed": true
   },
   "outputs": [],
   "source": [
    "def phredQ(q):\n",
    "    return ord(q) - 33\n",
    "\n",
    "def readFastq(filename):\n",
    "    sequenses = []\n",
    "    qualities = []\n",
    "    with open(filename) as f:\n",
    "        while True :\n",
    "            f.readline()\n",
    "            seq = f.readline().rstrip()\n",
    "            f.readline()\n",
    "            qual = f.readline().rstrip()\n",
    "            if len(seq) == 0:\n",
    "                break\n",
    "            sequenses.append(seq)\n",
    "            qualities.append(qual)\n",
    "    return sequenses, qualities\n"
   ]
  },
  {
   "cell_type": "code",
   "execution_count": 6,
   "metadata": {
    "collapsed": false
   },
   "outputs": [
    {
     "data": {
      "text/plain": [
       "10000"
      ]
     },
     "execution_count": 6,
     "metadata": {},
     "output_type": "execute_result"
    }
   ],
   "source": [
    "readsAsm , quals = readFastq('ERR266411_1.for_asm.fastq')\n",
    "\n",
    "len(readsAsm)"
   ]
  },
  {
   "cell_type": "code",
   "execution_count": 7,
   "metadata": {
    "collapsed": true
   },
   "outputs": [],
   "source": [
    "\n",
    "def findOverlapSuffix(reads, k):\n",
    "    dic = createKmerIndex(reads, k)\n",
    "    count = 0\n",
    "    result = []\n",
    "    for a in reads:\n",
    "        added = False;\n",
    "        kmer = a[-1*k:]\n",
    "        for v in dic[kmer]:\n",
    "            if not a == v:\n",
    "                if overlap(a,v,k) > 0:\n",
    "                    result.append((a,v))\n",
    "                    added = True\n",
    "        if added == True:\n",
    "            count +=1\n",
    "        #else:\n",
    "         #   print(a)\n",
    "    return result,count\n",
    "    #return count"
   ]
  },
  {
   "cell_type": "code",
   "execution_count": 9,
   "metadata": {
    "collapsed": false
   },
   "outputs": [
    {
     "name": "stdout",
     "output_type": "stream",
     "text": [
      "[('CGTACG', 'GTACGT'), ('CGTACG', 'GTACGA'), ('TACGTA', 'ACGTAC'), ('GTACGT', 'TACGTA'), ('ACGTAC', 'CGTACG'), ('GTACGA', 'TACGAT')]\n",
      "5\n"
     ]
    }
   ],
   "source": [
    "#print(readsAsm[0:2])\n",
    "r,c = findOverlapSuffix(['CGTACG', 'TACGTA', 'GTACGT', 'ACGTAC', 'GTACGA', 'TACGAT'],5)\n",
    "#print(len(olaps))\n",
    "print(r)\n",
    "print(c)"
   ]
  },
  {
   "cell_type": "code",
   "execution_count": 25,
   "metadata": {
    "collapsed": false
   },
   "outputs": [
    {
     "name": "stdout",
     "output_type": "stream",
     "text": [
      "904746\n",
      "7161\n"
     ]
    }
   ],
   "source": [
    "#readsAsm[0:10]\n",
    "olaps,c = findOverlapSuffix(readsAsm,30)\n",
    "print(len(olaps))\n",
    "print(c)"
   ]
  },
  {
   "cell_type": "code",
   "execution_count": null,
   "metadata": {
    "collapsed": true
   },
   "outputs": [],
   "source": []
  }
 ],
 "metadata": {
  "kernelspec": {
   "display_name": "Python 3",
   "language": "python",
   "name": "python3"
  },
  "language_info": {
   "codemirror_mode": {
    "name": "ipython",
    "version": 3
   },
   "file_extension": ".py",
   "mimetype": "text/x-python",
   "name": "python",
   "nbconvert_exporter": "python",
   "pygments_lexer": "ipython3",
   "version": "3.6.0"
  }
 },
 "nbformat": 4,
 "nbformat_minor": 2
}
