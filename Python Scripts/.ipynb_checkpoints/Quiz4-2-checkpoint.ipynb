{
 "cells": [
  {
   "cell_type": "code",
   "execution_count": 9,
   "metadata": {
    "collapsed": false
   },
   "outputs": [],
   "source": [
    "def phredQ(q):\n",
    "    return ord(q) - 33\n",
    "\n",
    "def readFastq(filename):\n",
    "    sequenses = []\n",
    "    qualities = []\n",
    "    with open(filename) as f:\n",
    "        while True :\n",
    "            f.readline()\n",
    "            seq = f.readline().rstrip()\n",
    "            f.readline()\n",
    "            qual = f.readline().rstrip()\n",
    "            if len(seq) == 0:\n",
    "                break\n",
    "            sequenses.append(seq)\n",
    "            qualities.append(qual)\n",
    "    return sequenses, qualities\n",
    "\n",
    "\n",
    "def overlap(a, b, min_length = 3):\n",
    "    start = 0\n",
    "    while True:\n",
    "        start = a.find(b[:min_length],start)\n",
    "        if start == -1:\n",
    "            return 0\n",
    "        if b.startswith(a[start:]):\n",
    "            return len(a)-start\n",
    "        start += 1\n",
    "\n",
    "\n",
    "def createKmerIndex(reads, k):\n",
    "    dic = {}\n",
    "    for read in reads:\n",
    "        for i in range(len(read) - k + 1):  # for each k-mer\n",
    "            kmer = read[i:i+k]\n",
    "            if kmer in dic:\n",
    "                dic[kmer].add(read)\n",
    "            else:\n",
    "                dic[kmer] = set([read])    \n",
    "    return dic  \n",
    "\n",
    "\n",
    "import itertools\n",
    "\n",
    "def pick_maximal_overlap(reads,k):\n",
    "    reada, readb = None,None\n",
    "    best_olen = 0\n",
    "    for a,b in itertools.permutations(reads,2):\n",
    "        olen = overlap(a,b, min_length=k)\n",
    "        if olen == 100:\n",
    "            return a,b,olen\n",
    "        if olen > best_olen:\n",
    "            reada, readb = a,b\n",
    "            best_olen = olen\n",
    "    return reada, readb, best_olen\n",
    "\n",
    "\n",
    "def pick_maximal_overlap_kmer(reads,k):\n",
    "    dic = createKmerIndex(reads,k)\n",
    "    reada, readb = None,None\n",
    "    best_olen = 0\n",
    "    for kmer in dic:\n",
    "        for a,b in itertools.permutations(dic[kmer],2):\n",
    "            olen = overlap(a,b, min_length=k)\n",
    "            if olen == 100:\n",
    "                return a,b,olen\n",
    "            if olen > best_olen:\n",
    "                reada, readb = a,b\n",
    "                best_olen = olen\n",
    "    return reada, readb, best_olen\n",
    "\n",
    "\n",
    "def gready_scs(reads,k):\n",
    "    read_a, read_b, olen = pick_maximal_overlap(reads,k)\n",
    "    while olen > 0:\n",
    "        reads.remove(read_a)\n",
    "        reads.remove(read_b)\n",
    "        reads.append(read_a+read_b[olen:])\n",
    "        read_a, read_b, olen= pick_maximal_overlap(reads,k)\n",
    "    return ''.join(reads)\n",
    "\n",
    "def gready_scs_kmer(reads,k):\n",
    "    read_a, read_b, olen = pick_maximal_overlap_kmer(reads,k)\n",
    "    while olen > 0:\n",
    "        reads.remove(read_a)\n",
    "        reads.remove(read_b)\n",
    "        reads.append(read_a+read_b[olen:])\n",
    "        read_a, read_b, olen= pick_maximal_overlap_kmer(reads,k)\n",
    "    return ''.join(reads)\n",
    "\n",
    "def removeExactMatches(reads,k):\n",
    "    for a,b in itertools.permutations(reads,2):\n",
    "        olen = overlap(a,b, min_length=k)\n",
    "        if olen == len(a):\n",
    "            reads.remove(a)\n",
    "    return reads"
   ]
  },
  {
   "cell_type": "code",
   "execution_count": 16,
   "metadata": {
    "collapsed": false
   },
   "outputs": [
    {
     "name": "stdout",
     "output_type": "stream",
     "text": [
      "1881\n",
      "1853\n"
     ]
    }
   ],
   "source": [
    "readsAsm , quals = readFastq('ads1_week4_reads.fq')\n",
    "print(len(readsAsm))\n",
    "readsAsm = removeExactMatches(readsAsm,100)\n",
    "print(len(readsAsm))\n"
   ]
  },
  {
   "cell_type": "code",
   "execution_count": null,
   "metadata": {
    "collapsed": false
   },
   "outputs": [],
   "source": [
    "c = gready_scs_kmer(readsAsm,10)\n",
    "print(len(c))"
   ]
  },
  {
   "cell_type": "code",
   "execution_count": 11,
   "metadata": {
    "collapsed": false
   },
   "outputs": [
    {
     "name": "stdout",
     "output_type": "stream",
     "text": [
      "('ACCAAACAAAGTTGGGTAAGGATAGATCAATCAATGATCATATTCTAGTACACTTAGGATTCAAGATCCTATTATCAGGGACAAGAGCAGGATTAGGGAT', 'ACCAAACAAAGTTGGGTAAGGATAGATCAATCAATGATCATATTCTAGTACACTTAGGATTCAAGATCCTATTATCAGGGACAAGAGCAGGATTAGGGAT', 100)\n"
     ]
    }
   ],
   "source": [
    "x = pick_maximal_overlap(readsAsm,10)\n",
    "print(x)"
   ]
  },
  {
   "cell_type": "code",
   "execution_count": null,
   "metadata": {
    "collapsed": false
   },
   "outputs": [],
   "source": [
    "pick_maximal_overlap_kmer(readsAsm,10)\n"
   ]
  },
  {
   "cell_type": "code",
   "execution_count": 16,
   "metadata": {
    "collapsed": false
   },
   "outputs": [
    {
     "ename": "ValueError",
     "evalue": "not enough values to unpack (expected 2, got 0)",
     "output_type": "error",
     "traceback": [
      "\u001b[0;31m---------------------------------------------------------------------------\u001b[0m",
      "\u001b[0;31mValueError\u001b[0m                                Traceback (most recent call last)",
      "\u001b[0;32m<ipython-input-16-c748486177ac>\u001b[0m in \u001b[0;36m<module>\u001b[0;34m()\u001b[0m\n\u001b[0;32m----> 1\u001b[0;31m \u001b[0mx\u001b[0m\u001b[1;33m,\u001b[0m\u001b[0my\u001b[0m \u001b[1;33m=\u001b[0m \u001b[0mitertools\u001b[0m\u001b[1;33m.\u001b[0m\u001b[0mpermutations\u001b[0m\u001b[1;33m(\u001b[0m\u001b[1;33m[\u001b[0m\u001b[1;34m'A'\u001b[0m\u001b[1;33m]\u001b[0m\u001b[1;33m,\u001b[0m\u001b[1;36m2\u001b[0m\u001b[1;33m)\u001b[0m\u001b[1;33m\u001b[0m\u001b[0m\n\u001b[0m\u001b[1;32m      2\u001b[0m \u001b[0mprint\u001b[0m\u001b[1;33m(\u001b[0m\u001b[0mx\u001b[0m\u001b[1;33m,\u001b[0m\u001b[0my\u001b[0m\u001b[1;33m)\u001b[0m\u001b[1;33m\u001b[0m\u001b[0m\n",
      "\u001b[0;31mValueError\u001b[0m: not enough values to unpack (expected 2, got 0)"
     ]
    }
   ],
   "source": [
    "x,y = itertools.permutations(['A'],2)\n",
    "print(x,y)"
   ]
  },
  {
   "cell_type": "code",
   "execution_count": null,
   "metadata": {
    "collapsed": true
   },
   "outputs": [],
   "source": []
  }
 ],
 "metadata": {
  "kernelspec": {
   "display_name": "Python 3",
   "language": "python",
   "name": "python3"
  },
  "language_info": {
   "codemirror_mode": {
    "name": "ipython",
    "version": 3
   },
   "file_extension": ".py",
   "mimetype": "text/x-python",
   "name": "python",
   "nbconvert_exporter": "python",
   "pygments_lexer": "ipython3",
   "version": "3.6.0"
  }
 },
 "nbformat": 4,
 "nbformat_minor": 2
}
