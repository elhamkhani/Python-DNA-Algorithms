{
 "cells": [
  {
   "cell_type": "code",
   "execution_count": 1,
   "metadata": {
    "collapsed": false
   },
   "outputs": [],
   "source": [
    "def phredQ(q):\n",
    "    return ord(q) - 33\n",
    "\n",
    "def readFastq(filename):\n",
    "    sequenses = []\n",
    "    qualities = []\n",
    "    with open(filename) as f:\n",
    "        while True :\n",
    "            f.readline()\n",
    "            seq = f.readline().rstrip()\n",
    "            f.readline()\n",
    "            qual = f.readline().rstrip()\n",
    "            if len(seq) == 0:\n",
    "                break\n",
    "            sequenses.append(seq)\n",
    "            qualities.append(qual)\n",
    "    return sequenses, qualities\n",
    "\n",
    "\n",
    "\n",
    "def overlap(a, b, min_length = 3):\n",
    "    start = 0\n",
    "    while True:\n",
    "        start = a.find(b[:min_length],start)\n",
    "        if start == -1:\n",
    "            return 0\n",
    "        if b.startswith(a[start:]):\n",
    "            return len(a)-start\n",
    "        start += 1\n",
    "\n",
    "\n",
    "def createKmerIndex(reads, k):\n",
    "    dic = {}\n",
    "    for read in reads:\n",
    "        for i in range(len(read) - k + 1):  # for each k-mer\n",
    "            kmer = read[i:i+k]\n",
    "            if kmer in dic:\n",
    "                dic[kmer].add(read)\n",
    "            else:\n",
    "                dic[kmer] = set([read])    \n",
    "    return dic  \n",
    "\n",
    "\n",
    "def findOverlapSuffix(reads, k):\n",
    "    dic = createKmerIndex(reads, k)\n",
    "    result = {}\n",
    "    for a in reads:\n",
    "        kmer = a[-1*k:]\n",
    "        for v in dic[kmer]:\n",
    "            if not a == v:\n",
    "                olap = overlap(a,v,k)\n",
    "                if  olap > 0:\n",
    "                    if olap in result:\n",
    "                        result[olap].add((a,v))\n",
    "                    else:\n",
    "        \n",
    "                        result[olap] = set((a,v))\n",
    "                    #result.append((olap,a,v))\n",
    "    return result\n",
    "import itertools\n",
    "\n",
    "\n",
    "def overlap(a, b, min_length = 3):\n",
    "    start = 0\n",
    "    while True:\n",
    "        start = a.find(b[:min_length],start)\n",
    "        if start == -1:\n",
    "            return 0\n",
    "        if b.startswith(a[start:]):\n",
    "            return len(a)-start\n",
    "        start += 1\n",
    "\n",
    "\n",
    "def pick_maximal_overlap(reads,k):\n",
    "    reada, readb = None,None\n",
    "    best_olen = 0\n",
    "    for a,b in itertools.permutations(reads,2):\n",
    "        olen = overlap(a,b, min_length=k)\n",
    "        if olen == 100:\n",
    "            return a,b,olen\n",
    "        if olen > best_olen:\n",
    "            reada, readb = a,b\n",
    "            best_olen = olen\n",
    "    return reada, readb, best_olen\n",
    "\n",
    "\n",
    "\n",
    "def gready_scs(reads,k):\n",
    "    read_a, read_b, olen = pick_maximal_overlap(reads,k)\n",
    "    while olen > 0:\n",
    "        reads.remove(read_a)\n",
    "        reads.remove(read_b)\n",
    "        reads.append(read_a+read_b[olen:])\n",
    "        read_a, read_b, olen= pick_maximal_overlap(reads,k)\n",
    "    return ''.join(reads)\n",
    "\n",
    "\n"
   ]
  },
  {
   "cell_type": "code",
   "execution_count": 2,
   "metadata": {
    "collapsed": false
   },
   "outputs": [
    {
     "name": "stdout",
     "output_type": "stream",
     "text": [
      "1881\n"
     ]
    }
   ],
   "source": [
    "readsAsm , quals = readFastq('ads1_week4_reads.fq')\n",
    "print(len(readsAsm))"
   ]
  },
  {
   "cell_type": "code",
   "execution_count": null,
   "metadata": {
    "collapsed": false
   },
   "outputs": [],
   "source": [
    "print(dykSuperstring([ 'AGG', 'AGT', 'CCG', 'CGT', 'GAG', 'GGA', 'GGT', 'GTA', 'GTG', 'TAG', 'TGG' ]))"
   ]
  },
  {
   "cell_type": "code",
   "execution_count": 5,
   "metadata": {
    "collapsed": false
   },
   "outputs": [
    {
     "name": "stdout",
     "output_type": "stream",
     "text": [
      "15894\n"
     ]
    }
   ],
   "source": [
    "c = gready_scs(readsAsm,10)\n",
    "print(len(c))"
   ]
  },
  {
   "cell_type": "code",
   "execution_count": 6,
   "metadata": {
    "collapsed": false
   },
   "outputs": [
    {
     "data": {
      "text/plain": [
       "4633"
      ]
     },
     "execution_count": 6,
     "metadata": {},
     "output_type": "execute_result"
    }
   ],
   "source": [
    "c.count(\"A\")"
   ]
  },
  {
   "cell_type": "code",
   "execution_count": 7,
   "metadata": {
    "collapsed": false
   },
   "outputs": [
    {
     "data": {
      "text/plain": [
       "3723"
      ]
     },
     "execution_count": 7,
     "metadata": {},
     "output_type": "execute_result"
    }
   ],
   "source": [
    "c.count(\"T\")"
   ]
  },
  {
   "cell_type": "code",
   "execution_count": null,
   "metadata": {
    "collapsed": true
   },
   "outputs": [],
   "source": []
  }
 ],
 "metadata": {
  "kernelspec": {
   "display_name": "Python 3",
   "language": "python",
   "name": "python3"
  },
  "language_info": {
   "codemirror_mode": {
    "name": "ipython",
    "version": 3
   },
   "file_extension": ".py",
   "mimetype": "text/x-python",
   "name": "python",
   "nbconvert_exporter": "python",
   "pygments_lexer": "ipython3",
   "version": "3.6.0"
  }
 },
 "nbformat": 4,
 "nbformat_minor": 2
}
