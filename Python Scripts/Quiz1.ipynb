{
 "cells": [
  {
   "cell_type": "code",
   "execution_count": 13,
   "metadata": {
    "collapsed": false
   },
   "outputs": [
    {
     "data": {
      "text/plain": [
       "48502"
      ]
     },
     "execution_count": 13,
     "metadata": {},
     "output_type": "execute_result"
    }
   ],
   "source": [
    "def readGenome(filename):\n",
    "    genome =''\n",
    "    with open(filename,'r') as f:\n",
    "        for line in f:\n",
    "            if not line[0] == '>':\n",
    "                genome +=line.rstrip()\n",
    "    return genome\n",
    "g = readGenome('lambda_virus.fa')\n",
    "len(g)"
   ]
  },
  {
   "cell_type": "code",
   "execution_count": 14,
   "metadata": {
    "collapsed": true
   },
   "outputs": [],
   "source": [
    "def reverseComplement(s):\n",
    "    complement = {'A':'T','T':'A','C':'G','G':'C','N':'N'}\n",
    "    reverse = ''\n",
    "    for i in s:\n",
    "        reverse = complement[i]+ reverse\n",
    "    return reverse\n",
    "\n",
    "def naiveMatch(pattern, text):\n",
    "    matches =[]\n",
    "    for i in range(len(text)-len(pattern)+1):\n",
    "        match = True\n",
    "        for j in range(len(pattern)):\n",
    "            if not pattern[j]== text[i+j]:\n",
    "                match = False\n",
    "                break\n",
    "        if match:\n",
    "            matches.append(i)\n",
    "    return matches"
   ]
  },
  {
   "cell_type": "code",
   "execution_count": 15,
   "metadata": {
    "collapsed": false
   },
   "outputs": [
    {
     "name": "stdout",
     "output_type": "stream",
     "text": [
      "[18005, 23320, 33657, 44806, 450, 1908, 2472, 41927, 45369]\n",
      "450\n"
     ]
    }
   ],
   "source": [
    "read = 'AGTCGA'\n",
    "readR = reverseComplement(read)\n",
    "\n",
    "matches = naiveMatch(read,g)\n",
    "matches.extend(naiveMatch(readR,g))\n",
    "print(matches)\n",
    "print(min(matches))"
   ]
  },
  {
   "cell_type": "code",
   "execution_count": 26,
   "metadata": {
    "collapsed": true
   },
   "outputs": [],
   "source": [
    "def naive_2mm(pattern, text):\n",
    "    matches =[]\n",
    "    for i in range(len(text)-len(pattern)+1):\n",
    "        errors=0\n",
    "            \n",
    "        for j in range(len(pattern)):\n",
    "            if not pattern[j]== text[i+j]:\n",
    "                errors +=1\n",
    "        if errors<3:\n",
    "            matches.append(i)\n",
    "    return matches"
   ]
  },
  {
   "cell_type": "code",
   "execution_count": 27,
   "metadata": {
    "collapsed": false
   },
   "outputs": [
    {
     "name": "stdout",
     "output_type": "stream",
     "text": [
      "19\n"
     ]
    }
   ],
   "source": [
    "p= 'GGCGCGGTGGCTCACGCCTGTAAT'\n",
    "t = readGenome('chr1.GRCh38.excerpt.fasta')\n",
    "print(len(naive_2mm(p,t)))\n"
   ]
  },
  {
   "cell_type": "code",
   "execution_count": 51,
   "metadata": {
    "collapsed": false
   },
   "outputs": [
    {
     "data": {
      "image/png": "[encoded data removed]",
      "text/plain": [
       "<matplotlib.figure.Figure at 0x1f675ecfac8>"
      ]
     },
     "metadata": {},
     "output_type": "display_data"
    }
   ],
   "source": [
    "def phredQ(q):\n",
    "    return ord(q) - 33\n",
    "\n",
    "def readFastq(filename):\n",
    "    sequenses = []\n",
    "    qualities = []\n",
    "    with open(filename) as f:\n",
    "        while True :\n",
    "            f.readline()\n",
    "            seq = f.readline().rstrip()\n",
    "            f.readline()\n",
    "            qual = f.readline().rstrip()\n",
    "            if len(seq) == 0:\n",
    "                break\n",
    "            sequenses.append(seq)\n",
    "            qualities.append(qual)\n",
    "    return sequenses, qualities\n",
    "seqs , quals = readFastq('ERR037900_1.first1000.fastq')\n",
    "\n",
    "def createHist(qualities):\n",
    "    hists = [0] * 45\n",
    "    for qual in qualities:\n",
    "        for phred in qual:\n",
    "            q = phredQ(phred)\n",
    "            hists[q] += 1\n",
    "    return hists\n",
    "h = createHist(quals)\n",
    "%matplotlib inline\n",
    "import matplotlib.pyplot as plt\n",
    "plt.bar(range(len(h)),h)\n",
    "plt.show()\n"
   ]
  },
  {
   "cell_type": "code",
   "execution_count": 52,
   "metadata": {
    "collapsed": false
   },
   "outputs": [
    {
     "name": "stdout",
     "output_type": "stream",
     "text": [
      "[0, 0, 17723, 0, 2, 11, 11, 28, 23, 55, 100, 111, 86, 174, 185, 272, 317, 259, 390, 1523, 2782, 762, 286, 413, 403, 538, 351, 694, 971, 777, 1024, 1449, 1341, 1312, 1916, 2233, 3025, 4043, 6640, 45696, 2074, 0, 0, 0, 0]\n"
     ]
    }
   ],
   "source": [
    "print(h)"
   ]
  },
  {
   "cell_type": "code",
   "execution_count": 54,
   "metadata": {
    "collapsed": false
   },
   "outputs": [
    {
     "data": {
      "image/png": "[encoded data removed]",
      "text/plain": [
       "<matplotlib.figure.Figure at 0x1f676d63d68>"
      ]
     },
     "metadata": {},
     "output_type": "display_data"
    }
   ],
   "source": [
    "def findGCByPos(reads):\n",
    "    gc = [0] * 100\n",
    "    total = [0] * 100\n",
    "    for read in reads:\n",
    "        for i in range(len(read)):\n",
    "            if read[i] == 'G' or read[i] == 'C':\n",
    "                gc[i] +=1\n",
    "            total[i] +=1\n",
    "    for i in range(len(gc)):\n",
    "        if total[i]>0:\n",
    "            gc[i]/=float(total[i])\n",
    "    return gc\n",
    "\n",
    "gc = findGCByPos(seqs)\n",
    "\n",
    "plt.plot(range(len(gc)),gc)\n",
    "plt.show()"
   ]
  },
  {
   "cell_type": "code",
   "execution_count": 58,
   "metadata": {
    "collapsed": false
   },
   "outputs": [
    {
     "name": "stdout",
     "output_type": "stream",
     "text": [
      "[0.527, 0.478, 0.489, 0.492, 0.531, 0.537, 0.523, 0.495, 0.51, 0.508, 0.538, 0.529, 0.529, 0.495, 0.491, 0.527, 0.537, 0.534, 0.517, 0.507, 0.493, 0.499, 0.536, 0.536, 0.549, 0.504, 0.506, 0.514, 0.529, 0.524, 0.539, 0.491, 0.499, 0.502, 0.562, 0.534, 0.538, 0.494, 0.492, 0.504, 0.544, 0.53, 0.538, 0.508, 0.513, 0.51, 0.539, 0.539, 0.506, 0.505, 0.524, 0.516, 0.535, 0.542, 0.524, 0.491, 0.542, 0.507, 0.563, 0.525, 0.536, 0.512, 0.541, 0.525, 0.557, 0.528, 0.055, 0.534, 0.516, 0.564, 0.57, 0.526, 0.535, 0.502, 0.534, 0.539, 0.567, 0.539, 0.523, 0.504, 0.567, 0.555, 0.558, 0.545, 0.531, 0.534, 0.568, 0.569, 0.58, 0.55, 0.55, 0.508, 0.553, 0.576, 0.566, 0.585, 0.56, 0.573, 0.582, 0.596]\n",
      "66\n"
     ]
    }
   ],
   "source": [
    "print(gc)\n",
    "print(gc.index(min(gc)))"
   ]
  },
  {
   "cell_type": "code",
   "execution_count": null,
   "metadata": {
    "collapsed": true
   },
   "outputs": [],
   "source": []
  }
 ],
 "metadata": {
  "kernelspec": {
   "display_name": "Python 3",
   "language": "python",
   "name": "python3"
  },
  "language_info": {
   "codemirror_mode": {
    "name": "ipython",
    "version": 3
   },
   "file_extension": ".py",
   "mimetype": "text/x-python",
   "name": "python",
   "nbconvert_exporter": "python",
   "pygments_lexer": "ipython3",
   "version": "3.6.0"
  }
 },
 "nbformat": 4,
 "nbformat_minor": 2
}
