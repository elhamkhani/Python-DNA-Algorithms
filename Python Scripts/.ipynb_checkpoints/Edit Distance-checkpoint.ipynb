{
 "cells": [
  {
   "cell_type": "code",
   "execution_count": null,
   "metadata": {
    "collapsed": true
   },
   "outputs": [],
   "source": []
  },
  {
   "cell_type": "code",
   "execution_count": 27,
   "metadata": {
    "collapsed": true
   },
   "outputs": [],
   "source": [
    "def editDistance(x,y):\n",
    "    D = []\n",
    "    for i in range(len(x)+1):\n",
    "        D.append([0]* (len(y)+1))\n",
    "    \n",
    "    for i in range(len(x)+1):\n",
    "        D[i][0] = i\n",
    "    for i in range(len(y)+1):\n",
    "        D[0][i] = i\n",
    "        \n",
    "    for i in range(1, len(x)+1):\n",
    "        for j in range(1, len(y)+1):\n",
    "            distHor = D[i][j-1] + 1\n",
    "            distVer = D[i-1][j] + 1\n",
    "            if x[i-1] == y[j-1]:\n",
    "                distDiag = D[i-1][j-1]\n",
    "            else:\n",
    "                distDiag = D[i-1][j-1] + 1\n",
    "                \n",
    "            D[i][j] = min(distHor,distVer,distDiag)\n",
    "            \n",
    "    return D[-1][-1]"
   ]
  },
  {
   "cell_type": "code",
   "execution_count": 28,
   "metadata": {
    "collapsed": false
   },
   "outputs": [
    {
     "data": {
      "text/plain": [
       "11"
      ]
     },
     "execution_count": 28,
     "metadata": {},
     "output_type": "execute_result"
    }
   ],
   "source": [
    "x = 'shake spea'\n",
    "y= 'Shakespeare'\n",
    "editDistance(x,y)\n",
    "\n",
    "P ='GCGTATGC'\n",
    "T ='TATTGGCTATACGGTT'\n",
    "editDistance(P,T)"
   ]
  },
  {
   "cell_type": "code",
   "execution_count": 10,
   "metadata": {
    "collapsed": true
   },
   "outputs": [],
   "source": [
    "alphabet =['A','C','G','T']\n",
    "score = [[0, 4, 2, 4, 8], \\\n",
    "         [4, 0, 4, 2, 8], \\\n",
    "         [2, 4, 0, 4, 8], \\\n",
    "         [4, 2, 4, 0, 8],\\\n",
    "         [8, 8, 8, 8, 8]]\n"
   ]
  },
  {
   "cell_type": "code",
   "execution_count": 20,
   "metadata": {
    "collapsed": false
   },
   "outputs": [],
   "source": [
    "def globalAlignment(x,y):\n",
    "    D = []\n",
    "    for i in range(len(x)+1):\n",
    "        D.append([0]* (len(y)+1))\n",
    "    \n",
    "    for i in range(1, len(x)+1):\n",
    "        D[i][0] = D[i-1][0] + score[alphabet.index(x[i-1])][-1]\n",
    "    for i in range(1,len(y)+1):\n",
    "        D[0][i] = D[0][i-1] + score[-1][alphabet.index(y[i-1])]\n",
    "        \n",
    "    for i in range(1, len(x)+1):\n",
    "        for j in range(1, len(y)+1):\n",
    "            distHor = D[i][j-1] + score[-1][alphabet.index(y[j-1])]\n",
    "            distVer = D[i-1][j] + score[alphabet.index(x[i-1])][-1]\n",
    "            if x[i-1] == y[j-1]:\n",
    "                distDiag = D[i-1][j-1]\n",
    "            else:\n",
    "                distDiag = D[i-1][j-1] + score[alphabet.index(x[i-1])][alphabet.index(y[j-1])]\n",
    "                \n",
    "            D[i][j] = min(distHor,distVer,distDiag)\n",
    "            ##print(D[i][j])\n",
    "   # print(D)\n",
    "    return D[-1][-1]"
   ]
  },
  {
   "cell_type": "code",
   "execution_count": 29,
   "metadata": {
    "collapsed": false
   },
   "outputs": [
    {
     "data": {
      "text/plain": [
       "70"
      ]
     },
     "execution_count": 29,
     "metadata": {},
     "output_type": "execute_result"
    }
   ],
   "source": [
    "x= 'TATT'\n",
    "y = 'TGT'\n",
    "globalAlignment(x,y)\n",
    "P ='GCGTATGC'\n",
    "T ='TATTGGCTATACGGTT'\n",
    "globalAlignment(P,T)"
   ]
  },
  {
   "cell_type": "code",
   "execution_count": null,
   "metadata": {
    "collapsed": true
   },
   "outputs": [],
   "source": []
  }
 ],
 "metadata": {
  "kernelspec": {
   "display_name": "Python 3",
   "language": "python",
   "name": "python3"
  },
  "language_info": {
   "codemirror_mode": {
    "name": "ipython",
    "version": 3
   },
   "file_extension": ".py",
   "mimetype": "text/x-python",
   "name": "python",
   "nbconvert_exporter": "python",
   "pygments_lexer": "ipython3",
   "version": "3.6.0"
  }
 },
 "nbformat": 4,
 "nbformat_minor": 2
}
